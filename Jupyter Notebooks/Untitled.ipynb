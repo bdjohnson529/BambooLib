{
 "cells": [
  {
   "cell_type": "code",
   "execution_count": 1,
   "metadata": {},
   "outputs": [
    {
     "ename": "FileNotFoundError",
     "evalue": "[Errno 2] No such file or directory: '../config.yaml'",
     "output_type": "error",
     "traceback": [
      "\u001b[1;31m---------------------------------------------------------------------------\u001b[0m",
      "\u001b[1;31mFileNotFoundError\u001b[0m                         Traceback (most recent call last)",
      "\u001b[1;32m<ipython-input-1-14b3d5fe61e1>\u001b[0m in \u001b[0;36m<module>\u001b[1;34m\u001b[0m\n\u001b[0;32m     23\u001b[0m \u001b[1;33m\u001b[0m\u001b[0m\n\u001b[0;32m     24\u001b[0m \u001b[1;31m# read config file\u001b[0m\u001b[1;33m\u001b[0m\u001b[1;33m\u001b[0m\u001b[1;33m\u001b[0m\u001b[0m\n\u001b[1;32m---> 25\u001b[1;33m \u001b[1;32mwith\u001b[0m \u001b[0mopen\u001b[0m\u001b[1;33m(\u001b[0m\u001b[1;34m'../config.yaml'\u001b[0m\u001b[1;33m)\u001b[0m \u001b[1;32mas\u001b[0m \u001b[0mfile\u001b[0m\u001b[1;33m:\u001b[0m\u001b[1;33m\u001b[0m\u001b[1;33m\u001b[0m\u001b[0m\n\u001b[0m\u001b[0;32m     26\u001b[0m         \u001b[0mcfg\u001b[0m \u001b[1;33m=\u001b[0m \u001b[0myaml\u001b[0m\u001b[1;33m.\u001b[0m\u001b[0mload\u001b[0m\u001b[1;33m(\u001b[0m\u001b[0mfile\u001b[0m\u001b[1;33m,\u001b[0m \u001b[0mLoader\u001b[0m\u001b[1;33m=\u001b[0m\u001b[0myaml\u001b[0m\u001b[1;33m.\u001b[0m\u001b[0mFullLoader\u001b[0m\u001b[1;33m)\u001b[0m\u001b[1;33m\u001b[0m\u001b[1;33m\u001b[0m\u001b[0m\n\u001b[0;32m     27\u001b[0m \u001b[1;33m\u001b[0m\u001b[0m\n",
      "\u001b[1;31mFileNotFoundError\u001b[0m: [Errno 2] No such file or directory: '../config.yaml'"
     ]
    }
   ],
   "source": [
    "\"\"\"\n",
    "unit_tests_eval.py\n",
    "-----------\n",
    "Evaluates a pair of unit tests against each other.\n",
    "\n",
    "Usage:\n",
    "\tpython unit_tests_eval.py FOLDER1 FOLDER2\n",
    "\"\"\"\n",
    "\n",
    "import os\n",
    "import sys\n",
    "import subprocess\n",
    "import yaml\n",
    "import pandas as pd\n",
    "import numpy as np\n",
    "from datetime import datetime\n",
    "\n",
    "server = sys.argv[1]\n",
    "\n",
    "\"\"\"\n",
    "Setup\n",
    "\"\"\"\n",
    "\n",
    "# read config file\n",
    "with open('../config.yaml') as file:\n",
    "\tcfg = yaml.load(file, Loader=yaml.FullLoader)\n",
    "\n",
    "\n",
    "\"\"\"\n",
    "Compute checksums\n",
    "\"\"\"\n",
    "\n",
    "d = {}\n",
    "\n",
    "for table in cfg['tables_core']:\n",
    "\t# user feedback\n",
    "\tprint(table)\n",
    "\n",
    "\t# build cmd\n",
    "\tquery = \"SELECT CHECKSUM_AGG(CHECKSUM(*)) FROM PDIAnalytics.dbo.\" + table\n",
    "\tcmd = 'sqlcmd -S KSIREAD -h -1 -Q \\\"' + query + '\\\"'\n",
    "\n",
    "\t# execute cmd\n",
    "\toutput = subprocess.check_output(cmd, shell=True)\n",
    "\n",
    "\t# parse checksum\n",
    "\ttry:\n",
    "\t\tchecksum = int(output.split()[0])\n",
    "\t\td[table] = checksum\n",
    "\texcept:\n",
    "\t\tprint(\"*** Checksum failed for \" + table)\n",
    "\t\tcontinue"
   ]
  },
  {
   "cell_type": "code",
   "execution_count": null,
   "metadata": {},
   "outputs": [],
   "source": []
  }
 ],
 "metadata": {
  "kernelspec": {
   "display_name": "Python 3",
   "language": "python",
   "name": "python3"
  },
  "language_info": {
   "codemirror_mode": {
    "name": "ipython",
    "version": 3
   },
   "file_extension": ".py",
   "mimetype": "text/x-python",
   "name": "python",
   "nbconvert_exporter": "python",
   "pygments_lexer": "ipython3",
   "version": "3.7.4"
  }
 },
 "nbformat": 4,
 "nbformat_minor": 2
}
