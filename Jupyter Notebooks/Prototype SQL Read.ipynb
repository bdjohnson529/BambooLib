{
 "cells": [
  {
   "cell_type": "code",
   "execution_count": 4,
   "metadata": {},
   "outputs": [],
   "source": [
    "import time\n",
    "import pandas as pd\n",
    "import numpy as np\n",
    "import pyodbc\n",
    "import datetime as dt"
   ]
  },
  {
   "cell_type": "code",
   "execution_count": 5,
   "metadata": {},
   "outputs": [],
   "source": [
    "server_name = 'KSITEST'\n",
    "db_name = 'PDIAnalytics'\n",
    "\n",
    "\n",
    "query = \"\"\"\n",
    "            SELECT      *\n",
    "            FROM        PDIAnalytics.dbo.T_RecommendationsRefactor_CustomerInfo\n",
    "\"\"\""
   ]
  },
  {
   "cell_type": "code",
   "execution_count": 6,
   "metadata": {},
   "outputs": [],
   "source": [
    "# Create the connection\n",
    "conn = pyodbc.connect('DRIVER={SQL Server};SERVER=' + server_name + \n",
    "                      ';DATABASE=' + db_name + ';Trusted_Connection=yes')\n",
    "\n",
    "cursor = conn.cursor()\n",
    "\n",
    "# Read in query\n",
    "start = dt.datetime.now()\n",
    "cursor.execute(query)\n",
    "data = cursor.fetchall()\n",
    "end = dt.datetime.now()"
   ]
  },
  {
   "cell_type": "code",
   "execution_count": 7,
   "metadata": {},
   "outputs": [
    {
     "data": {
      "text/plain": [
       "datetime.timedelta(seconds=890, microseconds=236474)"
      ]
     },
     "execution_count": 7,
     "metadata": {},
     "output_type": "execute_result"
    }
   ],
   "source": [
    "end - start"
   ]
  },
  {
   "cell_type": "code",
   "execution_count": null,
   "metadata": {},
   "outputs": [],
   "source": []
  }
 ],
 "metadata": {
  "kernelspec": {
   "display_name": "Python 3",
   "language": "python",
   "name": "python3"
  },
  "language_info": {
   "codemirror_mode": {
    "name": "ipython",
    "version": 3
   },
   "file_extension": ".py",
   "mimetype": "text/x-python",
   "name": "python",
   "nbconvert_exporter": "python",
   "pygments_lexer": "ipython3",
   "version": "3.7.6"
  }
 },
 "nbformat": 4,
 "nbformat_minor": 4
}
